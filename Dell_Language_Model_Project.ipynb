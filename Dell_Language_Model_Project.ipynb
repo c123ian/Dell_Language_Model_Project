{
 "cells": [
  {
   "cell_type": "code",
   "execution_count": 3,
   "metadata": {},
   "outputs": [],
   "source": [
    "from fastai.text.all import *\n",
    "import pandas as pd"
   ]
  },
  {
   "cell_type": "markdown",
   "metadata": {},
   "source": [
    "## Introduction\n",
    "\n",
    "The aim of this project is to classify Dell Technical Support emails into 'software' or 'hardware' catagories. A total of 1324 emails where taken via Dell in-house case scraping tool. 662 emails labelled as Software ('sw') and 662 labbeled as Hardware related ('hw') based on the researcher's domain knowledge. The dataset was saved as a CSV file, with each row being one email.\n",
    "\n",
    "This notebook begins with usinga  pretrained language model (Wikitext103) which understands teh stucture of language, and use it to read and predict emails as being 'sw' or 'hw'.\n",
    "\n",
    "The emails themselves are tokenized (seperate sentences into words) and using special 'tokens' we can ensure that each example per-batch is of the same size (padding samll emails with nonsense reserved tokens, 'xxunk') and the words are numericalised to form a vocabulary (starting with the most common occuring word). \n",
    "\n",
    "To improve perforance we then train are own language model(based on LSTM architecture) on Dell sepcific vocaburary. The model is tasked with predicting the next occuring word.\n",
    "\n",
    "Finally we train our new language model to again classify the images, and gradually unfreeze each layer to improve performance further."
   ]
  },
  {
   "cell_type": "markdown",
   "metadata": {},
   "source": [
    "Resources:\n",
    "https://www.kaggle.com/hortonhearsafoo/fast-ai-v3-lesson-3-imdb\n",
    "\n",
    "https://docs.fast.ai/tutorial.text#Train-a-text-classifier-from-a-pretrained-model"
   ]
  },
  {
   "cell_type": "code",
   "execution_count": null,
   "metadata": {},
   "outputs": [],
   "source": [
    "# path = '/home/cian/Downloads/fastbook-master/my_Project' # Dell_Dataset_Final.tar.xz\n",
    "# or ?\n",
    "# path = '/home/cian/Downloads/Dell_Dataset_Final'"
   ]
  },
  {
   "cell_type": "code",
   "execution_count": 4,
   "metadata": {},
   "outputs": [],
   "source": [
    "path = '/home/cian/Downloads/fastbook-master/my_Project/'"
   ]
  },
  {
   "cell_type": "markdown",
   "metadata": {},
   "source": [
    "## Dataset"
   ]
  },
  {
   "cell_type": "code",
   "execution_count": 5,
   "metadata": {},
   "outputs": [],
   "source": [
    "# import CSV file containing the dataset\n",
    "\n",
    "df = pd.read_csv('Dataset_CSV.csv')"
   ]
  },
  {
   "cell_type": "code",
   "execution_count": 6,
   "metadata": {},
   "outputs": [
    {
     "data": {
      "text/html": [
       "<div>\n",
       "<style scoped>\n",
       "    .dataframe tbody tr th:only-of-type {\n",
       "        vertical-align: middle;\n",
       "    }\n",
       "\n",
       "    .dataframe tbody tr th {\n",
       "        vertical-align: top;\n",
       "    }\n",
       "\n",
       "    .dataframe thead th {\n",
       "        text-align: right;\n",
       "    }\n",
       "</style>\n",
       "<table border=\"1\" class=\"dataframe\">\n",
       "  <thead>\n",
       "    <tr style=\"text-align: right;\">\n",
       "      <th></th>\n",
       "      <th>label</th>\n",
       "      <th>text</th>\n",
       "    </tr>\n",
       "  </thead>\n",
       "  <tbody>\n",
       "    <tr>\n",
       "      <th>0</th>\n",
       "      <td>s</td>\n",
       "      <td>Hi Technical support, We had an issue with the active controller today where emails as i will be the point of contact for this. Thanks.</td>\n",
       "    </tr>\n",
       "    <tr>\n",
       "      <th>1</th>\n",
       "      <td>s</td>\n",
       "      <td>I can't open web console</td>\n",
       "    </tr>\n",
       "    <tr>\n",
       "      <th>2</th>\n",
       "      <td>s</td>\n",
       "      <td>I want update Dell blade server M910 Bios and iDRAC Firmware</td>\n",
       "    </tr>\n",
       "    <tr>\n",
       "      <th>3</th>\n",
       "      <td>s</td>\n",
       "      <td>iDRAC card on this server appears to be non-functional. New one has been ordered but I am unable to locate the Dell iDRAC Enterprise License that needs to be loaded up to it, so they the card will offer iDRAC functions. I am requesting assistance locating that file.</td>\n",
       "    </tr>\n",
       "    <tr>\n",
       "      <th>4</th>\n",
       "      <td>s</td>\n",
       "      <td>Our network switch has crashed and needs its software to be re-installed. However, we have no copys of the software - OS10</td>\n",
       "    </tr>\n",
       "    <tr>\n",
       "      <th>5</th>\n",
       "      <td>s</td>\n",
       "      <td>Please provide iDRAC Enterprise license for PowerEdge M620 with after MB replacement.</td>\n",
       "    </tr>\n",
       "    <tr>\n",
       "      <th>6</th>\n",
       "      <td>s</td>\n",
       "      <td>System crashed, purple screen of death. Please assist with troubleshooting root cause.</td>\n",
       "    </tr>\n",
       "    <tr>\n",
       "      <th>7</th>\n",
       "      <td>s</td>\n",
       "      <td>Team, we have installed ESXi6.5U3 and need help for NVIDIA supported drives.</td>\n",
       "    </tr>\n",
       "    <tr>\n",
       "      <th>8</th>\n",
       "      <td>h</td>\n",
       "      <td>Two drives in the array are showing solid amber lights but otherwise appear to be functioning correctly. Can't get the GUI console to work. Appears that the software is too old to run on the version of Windows Server 2008R2. Trying to find</td>\n",
       "    </tr>\n",
       "    <tr>\n",
       "      <th>9</th>\n",
       "      <td>h</td>\n",
       "      <td>VMWare showed a PSOD. Looks like a RAM Module died. TSR is attached to the ticket.</td>\n",
       "    </tr>\n",
       "    <tr>\n",
       "      <th>10</th>\n",
       "      <td>h</td>\n",
       "      <td>We are currently experiencing an issue with the memory on this server, in the logs we are gettings the following error \"Correctable memory error rate exceeded for DIMM_B8\". Please see the TSR logs attached.</td>\n",
       "    </tr>\n",
       "    <tr>\n",
       "      <th>11</th>\n",
       "      <td>s</td>\n",
       "      <td>We received an error message while trying to update the firmware for our</td>\n",
       "    </tr>\n",
       "    <tr>\n",
       "      <th>12</th>\n",
       "      <td>s</td>\n",
       "      <td>We understand that the server is not under warranty, but we just need to get the iDRAC license.</td>\n",
       "    </tr>\n",
       "    <tr>\n",
       "      <th>13</th>\n",
       "      <td>s</td>\n",
       "      <td>Where can I find and download the latest version of SCOS for Dell Compellent SC4020</td>\n",
       "    </tr>\n",
       "    <tr>\n",
       "      <th>14</th>\n",
       "      <td>h</td>\n",
       "      <td>2 HDD Failure and Server not Booting up</td>\n",
       "    </tr>\n",
       "    <tr>\n",
       "      <th>15</th>\n",
       "      <td>h</td>\n",
       "      <td>A block on Physical Disk 0:0:0 was punctured by the controller. A block on Physical Disk 0:0:1 was punctured by the controller. Physical Disk 0:0:3 was reset.Communication with Chassis Integrated Controller 1 has been lost.</td>\n",
       "    </tr>\n",
       "    <tr>\n",
       "      <th>16</th>\n",
       "      <td>s</td>\n",
       "      <td>A Dell software utility called lifecycle controoler from within windows has made the system unable to boot - It may be missing its dell service profile if that makes sense. The files and folder of the system are still intact and on the SSDisk.</td>\n",
       "    </tr>\n",
       "    <tr>\n",
       "      <th>17</th>\n",
       "      <td>h</td>\n",
       "      <td>A fatal error was detected on a component at bus 23 device 2 function 0. The NDC is absent.</td>\n",
       "    </tr>\n",
       "    <tr>\n",
       "      <th>18</th>\n",
       "      <td>s</td>\n",
       "      <td>A fibre channel adapter attached to this host started reporting errors, causing high latency and preventing access to VMs hosted on this system. Errors reported by our fibre channel adapter is the cause of the errors or not. Please advise which resources we can send you (e. g. logs) to help with the diagnosis.</td>\n",
       "    </tr>\n",
       "    <tr>\n",
       "      <th>19</th>\n",
       "      <td>h</td>\n",
       "      <td>A system board fan keep reporting \"less than the lower critical threshold\" and then going into \"Fan redundancy is lost\". It will then come back on line and all green. It has done this multiple times over the weekend. I have attached the log file.</td>\n",
       "    </tr>\n",
       "  </tbody>\n",
       "</table>\n",
       "</div>"
      ],
      "text/plain": [
       "   label  \\\n",
       "0      s   \n",
       "1      s   \n",
       "2      s   \n",
       "3      s   \n",
       "4      s   \n",
       "5      s   \n",
       "6      s   \n",
       "7      s   \n",
       "8      h   \n",
       "9      h   \n",
       "10     h   \n",
       "11     s   \n",
       "12     s   \n",
       "13     s   \n",
       "14     h   \n",
       "15     h   \n",
       "16     s   \n",
       "17     h   \n",
       "18     s   \n",
       "19     h   \n",
       "\n",
       "                                                                                                                                                                                                                                                                                                                          text  \n",
       "0                                                                                                                                                                                      Hi Technical support, We had an issue with the active controller today where emails as i will be the point of contact for this. Thanks.  \n",
       "1                                                                                                                                                                                                                                                                                                    I can't open web console   \n",
       "2                                                                                                                                                                                                                                                                I want update Dell blade server M910 Bios and iDRAC Firmware   \n",
       "3                                                  iDRAC card on this server appears to be non-functional. New one has been ordered but I am unable to locate the Dell iDRAC Enterprise License that needs to be loaded up to it, so they the card will offer iDRAC functions. I am requesting assistance locating that file.   \n",
       "4                                                                                                                                                                                                   Our network switch has crashed and needs its software to be re-installed. However, we have no copys of the software - OS10  \n",
       "5                                                                                                                                                                                                                                       Please provide iDRAC Enterprise license for PowerEdge M620 with after MB replacement.   \n",
       "6                                                                                                                                                                                                                                      System crashed, purple screen of death. Please assist with troubleshooting root cause.   \n",
       "7                                                                                                                                                                                                                                                Team, we have installed ESXi6.5U3 and need help for NVIDIA supported drives.   \n",
       "8                                                                              Two drives in the array are showing solid amber lights but otherwise appear to be functioning correctly. Can't get the GUI console to work. Appears that the software is too old to run on the version of Windows Server 2008R2. Trying to find  \n",
       "9                                                                                                                                                                                                                                          VMWare showed a PSOD. Looks like a RAM Module died. TSR is attached to the ticket.   \n",
       "10                                                                                                             We are currently experiencing an issue with the memory on this server, in the logs we are gettings the following error \"Correctable memory error rate exceeded for DIMM_B8\". Please see the TSR logs attached.   \n",
       "11                                                                                                                                                                                                                                                    We received an error message while trying to update the firmware for our  \n",
       "12                                                                                                                                                                                                                             We understand that the server is not under warranty, but we just need to get the iDRAC license.  \n",
       "13                                                                                                                                                                                                                                        Where can I find and download the latest version of SCOS for Dell Compellent SC4020   \n",
       "14                                                                                                                                                                                                                                                                                    2 HDD Failure and Server not Booting up   \n",
       "15                                                                                            A block on Physical Disk 0:0:0 was punctured by the controller. A block on Physical Disk 0:0:1 was punctured by the controller. Physical Disk 0:0:3 was reset.Communication with Chassis Integrated Controller 1 has been lost.   \n",
       "16                                                                        A Dell software utility called lifecycle controoler from within windows has made the system unable to boot - It may be missing its dell service profile if that makes sense. The files and folder of the system are still intact and on the SSDisk.   \n",
       "17                                                                                                                                                                                                                                A fatal error was detected on a component at bus 23 device 2 function 0. The NDC is absent.   \n",
       "18    A fibre channel adapter attached to this host started reporting errors, causing high latency and preventing access to VMs hosted on this system. Errors reported by our fibre channel adapter is the cause of the errors or not. Please advise which resources we can send you (e. g. logs) to help with the diagnosis.   \n",
       "19                                                                     A system board fan keep reporting \"less than the lower critical threshold\" and then going into \"Fan redundancy is lost\". It will then come back on line and all green. It has done this multiple times over the weekend. I have attached the log file.   "
      ]
     },
     "execution_count": 6,
     "metadata": {},
     "output_type": "execute_result"
    }
   ],
   "source": [
    "df.head(20)"
   ]
  },
  {
   "cell_type": "code",
   "execution_count": 7,
   "metadata": {},
   "outputs": [
    {
     "data": {
      "text/plain": [
       "'   Team, we have installed ESXi6.5U3 and need help for NVIDIA supported drives. '"
      ]
     },
     "execution_count": 7,
     "metadata": {},
     "output_type": "execute_result"
    }
   ],
   "source": [
    "df['text'][7]"
   ]
  },
  {
   "cell_type": "markdown",
   "metadata": {},
   "source": [
    "## TextDataLoader\n",
    "\n",
    "we load the dataset in, sepcifying teh label and text columns. This TextDataLoader will also transform are email examples and apply tokenisation and numericalisation."
   ]
  },
  {
   "cell_type": "code",
   "execution_count": 9,
   "metadata": {},
   "outputs": [
    {
     "data": {
      "text/html": [],
      "text/plain": [
       "<IPython.core.display.HTML object>"
      ]
     },
     "metadata": {},
     "output_type": "display_data"
    },
    {
     "name": "stderr",
     "output_type": "stream",
     "text": [
      "/home/cian/.local/lib/python3.8/site-packages/numpy/core/_asarray.py:83: VisibleDeprecationWarning: Creating an ndarray from ragged nested sequences (which is a list-or-tuple of lists-or-tuples-or ndarrays with different lengths or shapes) is deprecated. If you meant to do this, you must specify 'dtype=object' when creating the ndarray\n",
      "  return array(a, dtype, copy=False, order=order)\n"
     ]
    },
    {
     "data": {
      "text/html": [
       "<table border=\"1\" class=\"dataframe\">\n",
       "  <thead>\n",
       "    <tr style=\"text-align: right;\">\n",
       "      <th></th>\n",
       "      <th>text</th>\n",
       "      <th>category</th>\n",
       "    </tr>\n",
       "  </thead>\n",
       "  <tbody>\n",
       "    <tr>\n",
       "      <th>0</th>\n",
       "      <td>xxbos xxmaj failed xxmaj disk in xxmaj slot 18 . xxmaj enclosure xxmaj device xxup i d : 64 xxmaj slot xxmaj number : 18 xxmaj device xxmaj i d : 18 xxmaj xxunk xxmaj number : 3 xxmaj media xxmaj error xxmaj count : 0 xxmaj other xxmaj error xxmaj count : 4 xxmaj predictive xxmaj failure xxmaj count : 0 xxmaj last xxmaj predictive xxmaj failure xxmaj event xxmaj xxunk xxmaj number : 0 xxup xxunk xxmaj type : xxup sas xxmaj xxunk xxmaj size : xxunk xxup tb [ xxunk xxmaj sectors ] xxmaj non xxmaj xxunk xxmaj size : xxunk xxup tb [ xxunk xxmaj sectors ] xxmaj xxunk xxmaj size : xxunk xxup tb [ xxunk xxrep 5 0 xxmaj sectors ] xxmaj firmware state : xxmaj failed xxup sas xxmaj xxunk ) : xxunk xxrep 3 0 xxunk xxup sas xxmaj xxunk ) :</td>\n",
       "      <td>h</td>\n",
       "    </tr>\n",
       "    <tr>\n",
       "      <th>1</th>\n",
       "      <td>xxbos xxmaj i 've got two servers where i ca n't xxunk idrac settings from xxunk 3.2.1 . xxmaj it works for xxunk other servers ( xxunk 8 &amp; 9 ) , but these xxunk . i get the xxup xxunk error . xxmaj the description ( in the error , and from https : / / xxrep 3 w .dell.com / support / xxunk / us / en / 04 / dell - xxunk - xxunk - xxunk / xxunk / lc - event - xxunk = xxunk - xxunk - xxunk = en - us ) does n't really help me . xxmaj how do still fails . xxmaj attached are xxup tsr from both servers and the deployment template xxunk from xxup xxunk . xxmaj it should just set idrac xxunk and xxunk and xxmaj active xxmaj directory settings . xxmaj what s xxunk the job ?</td>\n",
       "      <td>s</td>\n",
       "    </tr>\n",
       "    <tr>\n",
       "      <th>2</th>\n",
       "      <td>xxbos xxmaj hi xxmaj xxunk , xxmaj regarding the correctable memory errors we have been receiving on xxmaj dell xxmaj servers . xxmaj these are under investigation between xxmaj dell and vmware . xxmaj during this investigation , we require the following steps for any new correctable memory errors that xxunk : xxmaj create a xxup tsr report xxunk https : / / xxrep 3 w .dell.com / support / article / ca / en / xxunk / xxunk / export - a - supportassist - collection - and - perc - log - via - xxunk = en . xxmaj swap the xxup dimm between correctable memory error issue and the case number to : xxunk xxunk xxunk xxunk ; xxunk xxmaj xxunk xxunk xxmaj xxunk xxmaj xxunk xxunk . xxmaj xxunk xxmaj xxunk xxrep 3 i . xxmaj xxunk xxmaj xxunk xxunk . xxmaj xxunk xxunk</td>\n",
       "      <td>h</td>\n",
       "    </tr>\n",
       "  </tbody>\n",
       "</table>"
      ],
      "text/plain": [
       "<IPython.core.display.HTML object>"
      ]
     },
     "metadata": {},
     "output_type": "display_data"
    }
   ],
   "source": [
    "dls = TextDataLoaders.from_csv(path=path, csv_fname='Dataset_CSV.csv', text_col='text', label_col='label')\n",
    "dls.show_batch(max_n=3)"
   ]
  },
  {
   "cell_type": "markdown",
   "metadata": {},
   "source": [
    "We can see that the library automatically processed all the texts to split then in tokens, adding some special tokens like:\n",
    "\n",
    "- xxbos to indicate the beginning of a text\n",
    "- xxmaj to indicate the next word was capitalized\n",
    "\n",
    "Next we define a Learner suitable for text classification:\n",
    "\n"
   ]
  },
  {
   "cell_type": "markdown",
   "metadata": {},
   "source": [
    "## 1st Classification"
   ]
  },
  {
   "cell_type": "code",
   "execution_count": 11,
   "metadata": {},
   "outputs": [],
   "source": [
    "learn = text_classifier_learner(dls, AWD_LSTM, drop_mult=0.5, metrics=accuracy)\n",
    "\n"
   ]
  },
  {
   "cell_type": "markdown",
   "metadata": {},
   "source": [
    "We use the AWD LSTM architecture, drop_mult is a parameter that controls the magnitude of all dropouts in that model, and we use accuracy to track down how well we are doing. We can then fine-tune our pretrained model:"
   ]
  },
  {
   "cell_type": "code",
   "execution_count": 12,
   "metadata": {},
   "outputs": [
    {
     "data": {
      "text/html": [
       "<table border=\"1\" class=\"dataframe\">\n",
       "  <thead>\n",
       "    <tr style=\"text-align: left;\">\n",
       "      <th>epoch</th>\n",
       "      <th>train_loss</th>\n",
       "      <th>valid_loss</th>\n",
       "      <th>accuracy</th>\n",
       "      <th>time</th>\n",
       "    </tr>\n",
       "  </thead>\n",
       "  <tbody>\n",
       "    <tr>\n",
       "      <td>0</td>\n",
       "      <td>0.619599</td>\n",
       "      <td>0.576112</td>\n",
       "      <td>0.700758</td>\n",
       "      <td>00:02</td>\n",
       "    </tr>\n",
       "  </tbody>\n",
       "</table>"
      ],
      "text/plain": [
       "<IPython.core.display.HTML object>"
      ]
     },
     "metadata": {},
     "output_type": "display_data"
    },
    {
     "data": {
      "text/html": [
       "<table border=\"1\" class=\"dataframe\">\n",
       "  <thead>\n",
       "    <tr style=\"text-align: left;\">\n",
       "      <th>epoch</th>\n",
       "      <th>train_loss</th>\n",
       "      <th>valid_loss</th>\n",
       "      <th>accuracy</th>\n",
       "      <th>time</th>\n",
       "    </tr>\n",
       "  </thead>\n",
       "  <tbody>\n",
       "    <tr>\n",
       "      <td>0</td>\n",
       "      <td>0.459338</td>\n",
       "      <td>0.396279</td>\n",
       "      <td>0.840909</td>\n",
       "      <td>00:04</td>\n",
       "    </tr>\n",
       "    <tr>\n",
       "      <td>1</td>\n",
       "      <td>0.397563</td>\n",
       "      <td>0.361615</td>\n",
       "      <td>0.856061</td>\n",
       "      <td>00:04</td>\n",
       "    </tr>\n",
       "    <tr>\n",
       "      <td>2</td>\n",
       "      <td>0.341723</td>\n",
       "      <td>0.308726</td>\n",
       "      <td>0.886364</td>\n",
       "      <td>00:04</td>\n",
       "    </tr>\n",
       "    <tr>\n",
       "      <td>3</td>\n",
       "      <td>0.291458</td>\n",
       "      <td>0.297237</td>\n",
       "      <td>0.893939</td>\n",
       "      <td>00:04</td>\n",
       "    </tr>\n",
       "  </tbody>\n",
       "</table>"
      ],
      "text/plain": [
       "<IPython.core.display.HTML object>"
      ]
     },
     "metadata": {},
     "output_type": "display_data"
    }
   ],
   "source": [
    "learn.fine_tune(4, 1e-2)\n"
   ]
  },
  {
   "cell_type": "markdown",
   "metadata": {},
   "source": [
    "Will test how the model performing with the classification using the show_results method:"
   ]
  },
  {
   "cell_type": "code",
   "execution_count": 13,
   "metadata": {},
   "outputs": [
    {
     "data": {
      "text/html": [],
      "text/plain": [
       "<IPython.core.display.HTML object>"
      ]
     },
     "metadata": {},
     "output_type": "display_data"
    },
    {
     "data": {
      "text/html": [
       "<table border=\"1\" class=\"dataframe\">\n",
       "  <thead>\n",
       "    <tr style=\"text-align: right;\">\n",
       "      <th></th>\n",
       "      <th>text</th>\n",
       "      <th>category</th>\n",
       "      <th>category_</th>\n",
       "    </tr>\n",
       "  </thead>\n",
       "  <tbody>\n",
       "    <tr>\n",
       "      <th>0</th>\n",
       "      <td>xxbos xxmaj noticed that vmware has a new xxmaj dell vmware 6.5 image on this page ; https : / / xxunk / group / vmware / xxunk = oem - xxunk xxmaj but we did n't find any information about which systems were compatible . xxmaj is it compatible with our servers ? xxmaj the image is n't visible here , where we usually xxunk for new vmware xxunk ; https : / / xxrep 3 w xxunk / support / home / us / en / 04 / product - support / servicetag / xxunk / drivers . xxmaj xxunk also whether our servers can be updated using normal vmware xxmaj update xxmaj manager updates ? xxmaj we have only used xxmaj dell xxunk to xxunk problems with our xxup vrtx systems , and an external scv3020 storage which they are connected to using xxup sas cards .</td>\n",
       "      <td>s</td>\n",
       "      <td>s</td>\n",
       "    </tr>\n",
       "    <tr>\n",
       "      <th>1</th>\n",
       "      <td>xxbos i receive an alert in xxmaj prism xxmaj central on all 3 xxmaj prism central nodes that the memory has a high usage : xxup cvm or xxup pc xxup vm xxup ram xxmaj usage xxmaj high xxmaj prism xxmaj central xxup vm xxmaj system xxmaj indicator xxmaj critical - - 15 - 11 - 19 xxunk xxmaj prism xxmaj central xxup cvm or xxup pc xxup vm xxup ram xxmaj usage xxmaj high xxmaj prism xxmaj central xxup vm xxmaj system xxmaj indicator xxmaj critical - - 15 - 11 - 19 xxunk xxmaj prism xxmaj central xxup cvm or xxup pc xxup vm xxup ram xxmaj usage xxmaj high xxmaj prism xxmaj central xxup vm xxmaj system xxmaj indicator xxmaj critical - - 15 - 11 - 19 xxunk xxmaj prism xxmaj central xxmaj please escalate to xxmaj nutanix engineer to xxunk</td>\n",
       "      <td>s</td>\n",
       "      <td>s</td>\n",
       "    </tr>\n",
       "    <tr>\n",
       "      <th>2</th>\n",
       "      <td>xxbos xxmaj defective xxup ndc . xxmaj this is the third time i have opened a case for this server in which i signal the faulty xxup ndc . i xxunk he is xxunk this time . xxmaj the xxup ndc module it 's not detected . xxmaj see the attached xxup tsr logs xxunk . xxmaj we have updated all the firmware , but the situation has not changed . xxmaj this is the target component : xxunk : xxmaj broadcom xxunk xxmaj dual xxmaj port xxunk xxup xxunk - t &amp; xxunk xxmaj dual xxmaj port xxunk xxup xxunk - t , xxunk - xxmaj code : xxup xxunk .</td>\n",
       "      <td>h</td>\n",
       "      <td>h</td>\n",
       "    </tr>\n",
       "    <tr>\n",
       "      <th>3</th>\n",
       "      <td>xxbos i am trying to get xxmaj quick xxmaj boot running on my 3 xxmaj dell poweredge xxup r630 servers . xxmaj when i try to run the compatibility check , i get : / xxunk / xxunk / vmware / xxunk / xxunk / xxunk xxunk is not compatible with xxunk drivers . xxmaj compatibility check failed : xxunk one or more on this machine ) xxmaj when i ran the module check ( esxcli system module list ) i saw xxunk listed as a module , and is probably the problem . xxmaj how do i get xxmaj quick xxmaj boot running ?</td>\n",
       "      <td>s</td>\n",
       "      <td>s</td>\n",
       "    </tr>\n",
       "    <tr>\n",
       "      <th>4</th>\n",
       "      <td>xxbos xxup hba with errors xxmaj the xxmaj host unit xxmaj server - xxup xxunk is not xxunk light . xxmaj the xxmaj xxunk xxmaj port switch - xxrep 3 xxunk xxunk fc3 / 13 is not xxunk light . i tested the fiber cable and the loss xxunk across the xxmaj path was xxunk xxunk . xxmaj the cable tests good with the loss level i xxunk . i swapped out the switch - xxrep 3 xxunk xxunk fc3 / 13 xxup sfp , it still did not xxunk light , so i placed the original xxup sfp back into fc3 / 13 .</td>\n",
       "      <td>s</td>\n",
       "      <td>h</td>\n",
       "    </tr>\n",
       "    <tr>\n",
       "      <th>5</th>\n",
       "      <td>xxbos xxmaj failed 32 gb memory xxup dimm . xxmaj faulty memory xxup dimm in xxup xxunk server - multi - bit memory errors . xxup dimm was moved to another xxup dimm slot in the same server several days ago but soon began to log further errors . xxmaj the xxup dimm has also been tested in another identical model of server but soon xxunk to log errors there too . xxmaj known - good xxup dimm has now been installed and this works perfectly . xxmaj all host firmwares are at current revisions . xxmaj please ship replacement xxup dimm ( part</td>\n",
       "      <td>h</td>\n",
       "      <td>h</td>\n",
       "    </tr>\n",
       "    <tr>\n",
       "      <th>6</th>\n",
       "      <td>xxbos xxmaj attempting to update drivers using the xxmaj dell xxmaj update xxmaj utility and the server crashes . xxmaj on restart there are xxunk for errors xxup xxunk and xxup xxunk . xxmaj xxunk the xxup lc logs and found errors on xxmaj bus 0 xxmaj dev 29 xxmaj xxunk 2 and xxmaj bus 4 xxmaj dev 0 xxmaj xxunk 0 xxmaj reviewing those device , they are the xxup pci xxmaj express xxmaj root and xxup pci xxmaj xxunk xxmaj device . xxmaj manually installing the xxmaj xxunk software update crashes the system with the same errors .</td>\n",
       "      <td>s</td>\n",
       "      <td>s</td>\n",
       "    </tr>\n",
       "    <tr>\n",
       "      <th>7</th>\n",
       "      <td>xxbos xxmaj error at xxmaj memory . xxmaj after a node failure , the xxup lcc reported several errors , which were caused by faulty memory : xxup cpu 2 machine check error detected . xxmaj an xxup oem diagnostic event occurred . xxmaj multi - bit memory errors detected on a memory device at location xxup dimm_a5 . xxmaj the module was switched with a different module in the same server and the xxup post still reported problems with that same module in a different xxup dimm slot . xxmaj it was also tested in a different server .</td>\n",
       "      <td>h</td>\n",
       "      <td>h</td>\n",
       "    </tr>\n",
       "    <tr>\n",
       "      <th>8</th>\n",
       "      <td>xxbos xxmaj hi there xxmaj just setting up the new server , have run through lifecycle controller , updated xxmaj firmware , created xxup raid etc , and am now installing xxmaj windows 2019 . xxmaj i 'm at xxmaj installing xxmaj windows xxmaj status screen , and after xxunk xxunk xxunk xxunk , . xxmaj i m still only at 9 % for xxmaj getting files ready for installation … xxunk should take no time at all . ( see screenshot ) . xxmaj any xxunk if there could be an issue ? xxmaj regards</td>\n",
       "      <td>s</td>\n",
       "      <td>s</td>\n",
       "    </tr>\n",
       "  </tbody>\n",
       "</table>"
      ],
      "text/plain": [
       "<IPython.core.display.HTML object>"
      ]
     },
     "metadata": {},
     "output_type": "display_data"
    }
   ],
   "source": [
    "learn.show_results()\n"
   ]
  },
  {
   "cell_type": "code",
   "execution_count": 14,
   "metadata": {},
   "outputs": [
    {
     "data": {
      "text/html": [],
      "text/plain": [
       "<IPython.core.display.HTML object>"
      ]
     },
     "metadata": {},
     "output_type": "display_data"
    },
    {
     "name": "stdout",
     "output_type": "stream",
     "text": [
      "Before Fine Tune Language Model\n"
     ]
    },
    {
     "data": {
      "image/png": "[encoded data removed]",
      "text/plain": [
       "<Figure size 432x288 with 1 Axes>"
      ]
     },
     "metadata": {
      "needs_background": "light"
     },
     "output_type": "display_data"
    }
   ],
   "source": [
    "# 1st classification perormance confussion matrix\n",
    "\n",
    "    \n",
    "    \n",
    "interp = ClassificationInterpretation.from_learner(learn)\n",
    "print(\"Before Fine Tune Language Model\")\n",
    "interp.plot_confusion_matrix()"
   ]
  },
  {
   "cell_type": "markdown",
   "metadata": {},
   "source": [
    "## Unseen data:"
   ]
  },
  {
   "cell_type": "markdown",
   "metadata": {},
   "source": [
    "And we can predict on new texts (unseen data)"
   ]
  },
  {
   "cell_type": "code",
   "execution_count": 15,
   "metadata": {},
   "outputs": [
    {
     "data": {
      "text/html": [],
      "text/plain": [
       "<IPython.core.display.HTML object>"
      ]
     },
     "metadata": {},
     "output_type": "display_data"
    },
    {
     "data": {
      "text/plain": [
       "('s', tensor(1), tensor([0.0011, 0.9989]))"
      ]
     },
     "execution_count": 15,
     "metadata": {},
     "output_type": "execute_result"
    }
   ],
   "source": [
    "learn.predict(\"please help me update my server software\")\n"
   ]
  },
  {
   "cell_type": "code",
   "execution_count": 16,
   "metadata": {},
   "outputs": [
    {
     "data": {
      "text/html": [],
      "text/plain": [
       "<IPython.core.display.HTML object>"
      ]
     },
     "metadata": {},
     "output_type": "display_data"
    },
    {
     "data": {
      "text/plain": [
       "('s', tensor(1), tensor([0.0308, 0.9692]))"
      ]
     },
     "execution_count": 16,
     "metadata": {},
     "output_type": "execute_result"
    }
   ],
   "source": [
    "learn.predict(\"I am having issues after software update, I believe it is a hardware issues and need a DIMM replaced\")\n"
   ]
  },
  {
   "cell_type": "markdown",
   "metadata": {},
   "source": [
    "Above we can see an emphasis on the 'software' keyword, mis-classifying it wih 96% confidence."
   ]
  },
  {
   "cell_type": "code",
   "execution_count": 17,
   "metadata": {},
   "outputs": [
    {
     "data": {
      "text/html": [],
      "text/plain": [
       "<IPython.core.display.HTML object>"
      ]
     },
     "metadata": {},
     "output_type": "display_data"
    },
    {
     "data": {
      "text/plain": [
       "('s', tensor(1), tensor([0.1353, 0.8647]))"
      ]
     },
     "execution_count": 17,
     "metadata": {},
     "output_type": "execute_result"
    }
   ],
   "source": [
    "learn.predict(\"please help this is not a software issue this is a hardware problem\")\n"
   ]
  },
  {
   "cell_type": "markdown",
   "metadata": {},
   "source": [
    "We can also use the data block API to get our data in a DataLoaders\n",
    "\n",
    "- the types used, through an argument called blocks: here we have images and categories, so we pass TextBlock and CategoryBlock. To inform the library our texts are files in a folder, we use the from_folder class method.\n",
    "- how to get the raw items, here our function get_text_files.\n",
    "- how to label those items, here with the parent folder.\n",
    "- how to split those items, here with the grandparent folder."
   ]
  },
  {
   "attachments": {
    "image.png": {
     "image/png": "[encoded data removed]"
    }
   },
   "cell_type": "markdown",
   "metadata": {},
   "source": [
    "## Fine-tuning a language model on Dell vocab\n",
    "\n",
    "Using a pretrained language model, trained on Wikipedia. This lWikiText103 model has the task of predicting the next word, after reading words before it. \n",
    "\n",
    "Then we fine_tune this language model to a Dell email classifier (hardware or software)\n",
    "\n",
    "Wikipedia english is different to the language used in Dell emails (specific Dell terminology ect.). So we fine-tune our pretrained language model to the Dell corpus and then use that as the base for our classifier.\n",
    "\n",
    "\n",
    "![image.png](attachment:image.png)\n",
    "\n",
    "\n",
    "We can get our texts (DEll emails) in a DataLoaders suitable for language modeling:\n",
    "\n",
    "\n",
    "\n"
   ]
  },
  {
   "cell_type": "code",
   "execution_count": 18,
   "metadata": {},
   "outputs": [
    {
     "data": {
      "text/html": [],
      "text/plain": [
       "<IPython.core.display.HTML object>"
      ]
     },
     "metadata": {},
     "output_type": "display_data"
    },
    {
     "name": "stderr",
     "output_type": "stream",
     "text": [
      "/home/cian/.local/lib/python3.8/site-packages/numpy/core/_asarray.py:83: VisibleDeprecationWarning: Creating an ndarray from ragged nested sequences (which is a list-or-tuple of lists-or-tuples-or ndarrays with different lengths or shapes) is deprecated. If you meant to do this, you must specify 'dtype=object' when creating the ndarray\n",
      "  return array(a, dtype, copy=False, order=order)\n"
     ]
    }
   ],
   "source": [
    "# dls = TextDataLoaders.from_csv(path=path, csv_fname='Dataset_CSV.csv', text_col='text', label_col='label')\n",
    "\n",
    "dell_lm = TextDataLoaders.from_csv(path=path, csv_fname='Dataset_CSV.csv', text_col='text', label_col='label', is_lm=True, valid_pct=0.1)\n"
   ]
  },
  {
   "cell_type": "markdown",
   "metadata": {},
   "source": [
    "- valid_pct=0.1, we tell it to get a random 10% of those reviews for the validation set.\n",
    "- is_lm = True indicates if we want to use texts for language modeling\n",
    "\n",
    "Remember, to train the Dell language model (dell_lm) we request it to guess the next word in the sentence. Below we can see the targets have all shifted one word to the right.\n",
    "\n"
   ]
  },
  {
   "cell_type": "code",
   "execution_count": 19,
   "metadata": {},
   "outputs": [
    {
     "data": {
      "text/html": [
       "<table border=\"1\" class=\"dataframe\">\n",
       "  <thead>\n",
       "    <tr style=\"text-align: right;\">\n",
       "      <th></th>\n",
       "      <th>text</th>\n",
       "      <th>text_</th>\n",
       "    </tr>\n",
       "  </thead>\n",
       "  <tbody>\n",
       "    <tr>\n",
       "      <th>0</th>\n",
       "      <td>xxbos error - the storage xxup xxunk xxmaj power cable is not connected , or is improperly connected . we have already replaced the backplane and cable in past still we received the 2 alert in xxunk past xxunk / xxunk xxmaj please check and let me know the xxup poa xxbos latency is showing high number as per the attached xxunk . also i need to identify for up to how</td>\n",
       "      <td>error - the storage xxup xxunk xxmaj power cable is not connected , or is improperly connected . we have already replaced the backplane and cable in past still we received the 2 alert in xxunk past xxunk / xxunk xxmaj please check and let me know the xxup poa xxbos latency is showing high number as per the attached xxunk . also i need to identify for up to how many</td>\n",
       "    </tr>\n",
       "    <tr>\n",
       "      <th>1</th>\n",
       "      <td>the following error : xxbos xxmaj server xxmaj xxunk xxunk upon powering xxmaj xxunk of xxmaj box ) . xxup xxunk xxunk xxup xxunk xxmaj xxunk ( xxmaj xxunk xxmaj xxunk ( server xxup xxunk ( xxunk - xxunk ) xxmaj diagnostic : xxmaj see troubleshooting steps below xxmaj diagnostic xxmaj test : xxmaj yes , xxmaj diagnostic xxunk &amp; xxmaj message : xxup see xxup attached xxup logs xxmaj validation xxmaj</td>\n",
       "      <td>following error : xxbos xxmaj server xxmaj xxunk xxunk upon powering xxmaj xxunk of xxmaj box ) . xxup xxunk xxunk xxup xxunk xxmaj xxunk ( xxmaj xxunk xxmaj xxunk ( server xxup xxunk ( xxunk - xxunk ) xxmaj diagnostic : xxmaj see troubleshooting steps below xxmaj diagnostic xxmaj test : xxmaj yes , xxmaj diagnostic xxunk &amp; xxmaj message : xxup see xxup attached xxup logs xxmaj validation xxmaj code</td>\n",
       "    </tr>\n",
       "    <tr>\n",
       "      <th>2</th>\n",
       "      <td>the boot , at no point does the idrac get an xxup ip . xxbos xxmaj the server was ordered with idrac enterprise . xxmaj somehow it xxunk its license file and now is xxmaj xxunk . xxbos xxmaj we are facing issues with installing the ism xxunk on esx host . xxbos xxmaj multi - bit memory errors detected . xxmaj multi - bit memory errors detected on a memory device</td>\n",
       "      <td>boot , at no point does the idrac get an xxup ip . xxbos xxmaj the server was ordered with idrac enterprise . xxmaj somehow it xxunk its license file and now is xxmaj xxunk . xxbos xxmaj we are facing issues with installing the ism xxunk on esx host . xxbos xxmaj multi - bit memory errors detected . xxmaj multi - bit memory errors detected on a memory device at</td>\n",
       "    </tr>\n",
       "    <tr>\n",
       "      <th>3</th>\n",
       "      <td>was replaced with one of a different server . xxmaj now the disk was working again . xxbos xxmaj kindly assist with the idrac enterprise license , the idrac does not respond on the host and seems to have a xxunk license whether we have an enterprise license on our hosts racadm license view xxunk xxmaj status = xxmaj the license has expired . xxmaj device = xxunk xxmaj device xxmaj description</td>\n",
       "      <td>replaced with one of a different server . xxmaj now the disk was working again . xxbos xxmaj kindly assist with the idrac enterprise license , the idrac does not respond on the host and seems to have a xxunk license whether we have an enterprise license on our hosts racadm license view xxunk xxmaj status = xxmaj the license has expired . xxmaj device = xxunk xxmaj device xxmaj description =</td>\n",
       "    </tr>\n",
       "    <tr>\n",
       "      <th>4</th>\n",
       "      <td>. i have updated the firmware which did not correct the issue . i tried reseating the adapter and riser it still persisted in not functioning .. xxbos xxmaj we are experiencing an issue with one of the dimm 's in slot xxup b4 on our poweredge xxup r740 xxup xxunk . xxmaj please be advised the motherboard was swapped out on this device this morning by a xxmaj dell xxmaj engineer</td>\n",
       "      <td>i have updated the firmware which did not correct the issue . i tried reseating the adapter and riser it still persisted in not functioning .. xxbos xxmaj we are experiencing an issue with one of the dimm 's in slot xxup b4 on our poweredge xxup r740 xxup xxunk . xxmaj please be advised the motherboard was swapped out on this device this morning by a xxmaj dell xxmaj engineer in</td>\n",
       "    </tr>\n",
       "  </tbody>\n",
       "</table>"
      ],
      "text/plain": [
       "<IPython.core.display.HTML object>"
      ]
     },
     "metadata": {},
     "output_type": "display_data"
    }
   ],
   "source": [
    "dell_lm.show_batch(max_n=5)\n"
   ]
  },
  {
   "cell_type": "markdown",
   "metadata": {},
   "source": [
    "Then using the AWD_LSTM architecture, also used in the previous Learner. We use accuracy and perplexity as metrics (the later is the exponential of the loss) and we set a default weight decay of 0.1. to_fp16 puts the Learner in mixed precision, which is going to help speed up training on GPUs that have Tensor Cores."
   ]
  },
  {
   "cell_type": "code",
   "execution_count": 20,
   "metadata": {},
   "outputs": [],
   "source": [
    "learn = language_model_learner(dell_lm, AWD_LSTM, metrics=[accuracy, Perplexity()], path=path, wd=0.1).to_fp16()"
   ]
  },
  {
   "cell_type": "markdown",
   "metadata": {},
   "source": [
    "## Freezing\n",
    "By default, a pretrained Learner is in a frozen state, meaning that only the head of the model will train while the body stays frozen. We show you what is behind the fine_tune method here and use a fit_one_cycle method to fit the model\n",
    "\n",
    "We train with discriminative learning rates and gradual unfreezing. In computer vision, we often unfreeze the model all at once, but for NLP classifiers, we find that unfreezing a few layers at a time makes a real difference.\n",
    "\n",
    "\n",
    "\n"
   ]
  },
  {
   "cell_type": "code",
   "execution_count": 21,
   "metadata": {},
   "outputs": [
    {
     "data": {
      "text/html": [
       "<table border=\"1\" class=\"dataframe\">\n",
       "  <thead>\n",
       "    <tr style=\"text-align: left;\">\n",
       "      <th>epoch</th>\n",
       "      <th>train_loss</th>\n",
       "      <th>valid_loss</th>\n",
       "      <th>accuracy</th>\n",
       "      <th>perplexity</th>\n",
       "      <th>time</th>\n",
       "    </tr>\n",
       "  </thead>\n",
       "  <tbody>\n",
       "    <tr>\n",
       "      <td>0</td>\n",
       "      <td>5.241202</td>\n",
       "      <td>4.738733</td>\n",
       "      <td>0.219510</td>\n",
       "      <td>114.289337</td>\n",
       "      <td>00:01</td>\n",
       "    </tr>\n",
       "  </tbody>\n",
       "</table>"
      ],
      "text/plain": [
       "<IPython.core.display.HTML object>"
      ]
     },
     "metadata": {},
     "output_type": "display_data"
    }
   ],
   "source": [
    "learn.fit_one_cycle(1, 1e-2)\n"
   ]
  },
  {
   "cell_type": "markdown",
   "metadata": {},
   "source": [
    "## Saving Epochs\n",
    "\n",
    "It will create a file in learn.path/models/ named \"1epoch.pth\". If you want to load your model on another machine after creating your Learner the same way, or resume training later, you can load the content of this file with:\n",
    "\n",
    "learn = learn.load('1epoch')\n",
    "\n",
    "Path('/home/cian/Downloads/fastbook-master/my_Project/models/1epoch.pth')\n",
    "\n"
   ]
  },
  {
   "cell_type": "code",
   "execution_count": 22,
   "metadata": {},
   "outputs": [
    {
     "data": {
      "text/plain": [
       "Path('/home/cian/Downloads/fastbook-master/my_Project/models/1epoch.pth')"
      ]
     },
     "execution_count": 22,
     "metadata": {},
     "output_type": "execute_result"
    }
   ],
   "source": [
    "learn.save('1epoch')\n"
   ]
  },
  {
   "cell_type": "markdown",
   "metadata": {},
   "source": [
    "## Unfreezing\n",
    "\n",
    "We can them fine-tune the model after unfreezing:\n",
    "\n"
   ]
  },
  {
   "cell_type": "code",
   "execution_count": 23,
   "metadata": {},
   "outputs": [
    {
     "data": {
      "text/html": [
       "<table border=\"1\" class=\"dataframe\">\n",
       "  <thead>\n",
       "    <tr style=\"text-align: left;\">\n",
       "      <th>epoch</th>\n",
       "      <th>train_loss</th>\n",
       "      <th>valid_loss</th>\n",
       "      <th>accuracy</th>\n",
       "      <th>perplexity</th>\n",
       "      <th>time</th>\n",
       "    </tr>\n",
       "  </thead>\n",
       "  <tbody>\n",
       "    <tr>\n",
       "      <td>0</td>\n",
       "      <td>4.745291</td>\n",
       "      <td>4.496336</td>\n",
       "      <td>0.224501</td>\n",
       "      <td>89.687912</td>\n",
       "      <td>00:02</td>\n",
       "    </tr>\n",
       "    <tr>\n",
       "      <td>1</td>\n",
       "      <td>4.610158</td>\n",
       "      <td>4.213381</td>\n",
       "      <td>0.244249</td>\n",
       "      <td>67.584648</td>\n",
       "      <td>00:02</td>\n",
       "    </tr>\n",
       "    <tr>\n",
       "      <td>2</td>\n",
       "      <td>4.467466</td>\n",
       "      <td>4.039433</td>\n",
       "      <td>0.260308</td>\n",
       "      <td>56.794106</td>\n",
       "      <td>00:02</td>\n",
       "    </tr>\n",
       "    <tr>\n",
       "      <td>3</td>\n",
       "      <td>4.324167</td>\n",
       "      <td>3.872668</td>\n",
       "      <td>0.279731</td>\n",
       "      <td>48.070480</td>\n",
       "      <td>00:02</td>\n",
       "    </tr>\n",
       "    <tr>\n",
       "      <td>4</td>\n",
       "      <td>4.184862</td>\n",
       "      <td>3.794966</td>\n",
       "      <td>0.274740</td>\n",
       "      <td>44.476711</td>\n",
       "      <td>00:02</td>\n",
       "    </tr>\n",
       "    <tr>\n",
       "      <td>5</td>\n",
       "      <td>4.054781</td>\n",
       "      <td>3.738801</td>\n",
       "      <td>0.288303</td>\n",
       "      <td>42.047535</td>\n",
       "      <td>00:02</td>\n",
       "    </tr>\n",
       "    <tr>\n",
       "      <td>6</td>\n",
       "      <td>3.921369</td>\n",
       "      <td>3.692101</td>\n",
       "      <td>0.291124</td>\n",
       "      <td>40.129070</td>\n",
       "      <td>00:02</td>\n",
       "    </tr>\n",
       "    <tr>\n",
       "      <td>7</td>\n",
       "      <td>3.802547</td>\n",
       "      <td>3.673348</td>\n",
       "      <td>0.296875</td>\n",
       "      <td>39.383560</td>\n",
       "      <td>00:02</td>\n",
       "    </tr>\n",
       "    <tr>\n",
       "      <td>8</td>\n",
       "      <td>3.693645</td>\n",
       "      <td>3.656542</td>\n",
       "      <td>0.311089</td>\n",
       "      <td>38.727203</td>\n",
       "      <td>00:02</td>\n",
       "    </tr>\n",
       "    <tr>\n",
       "      <td>9</td>\n",
       "      <td>3.586087</td>\n",
       "      <td>3.640138</td>\n",
       "      <td>0.296658</td>\n",
       "      <td>38.097099</td>\n",
       "      <td>00:02</td>\n",
       "    </tr>\n",
       "    <tr>\n",
       "      <td>10</td>\n",
       "      <td>3.486243</td>\n",
       "      <td>3.647613</td>\n",
       "      <td>0.302192</td>\n",
       "      <td>38.382919</td>\n",
       "      <td>00:02</td>\n",
       "    </tr>\n",
       "    <tr>\n",
       "      <td>11</td>\n",
       "      <td>3.404230</td>\n",
       "      <td>3.635960</td>\n",
       "      <td>0.302626</td>\n",
       "      <td>37.938240</td>\n",
       "      <td>00:02</td>\n",
       "    </tr>\n",
       "    <tr>\n",
       "      <td>12</td>\n",
       "      <td>3.327415</td>\n",
       "      <td>3.640913</td>\n",
       "      <td>0.300890</td>\n",
       "      <td>38.126640</td>\n",
       "      <td>00:02</td>\n",
       "    </tr>\n",
       "    <tr>\n",
       "      <td>13</td>\n",
       "      <td>3.268893</td>\n",
       "      <td>3.637360</td>\n",
       "      <td>0.302192</td>\n",
       "      <td>37.991394</td>\n",
       "      <td>00:02</td>\n",
       "    </tr>\n",
       "    <tr>\n",
       "      <td>14</td>\n",
       "      <td>3.220099</td>\n",
       "      <td>3.637044</td>\n",
       "      <td>0.300890</td>\n",
       "      <td>37.979401</td>\n",
       "      <td>00:02</td>\n",
       "    </tr>\n",
       "  </tbody>\n",
       "</table>"
      ],
      "text/plain": [
       "<IPython.core.display.HTML object>"
      ]
     },
     "metadata": {},
     "output_type": "display_data"
    }
   ],
   "source": [
    "learn.unfreeze()\n",
    "learn.fit_one_cycle(15, 1e-3)\n"
   ]
  },
  {
   "cell_type": "code",
   "execution_count": 24,
   "metadata": {},
   "outputs": [],
   "source": [
    "# save the ENCODER (arhitecture)\n",
    "\n",
    "learn.save_encoder('finetuned')\n"
   ]
  },
  {
   "cell_type": "markdown",
   "metadata": {},
   "source": [
    "The accuracy score is not expected to reach very high \n",
    "\n",
    "## Text Generation\n",
    "\n",
    "We can use our language model to generate random customer emails: since it's trained to guess what the next word of the sentence is, we can use it to write new emails:"
   ]
  },
  {
   "cell_type": "code",
   "execution_count": 25,
   "metadata": {},
   "outputs": [
    {
     "data": {
      "text/html": [],
      "text/plain": [
       "<IPython.core.display.HTML object>"
      ]
     },
     "metadata": {},
     "output_type": "display_data"
    },
    {
     "data": {
      "text/html": [],
      "text/plain": [
       "<IPython.core.display.HTML object>"
      ]
     },
     "metadata": {},
     "output_type": "display_data"
    }
   ],
   "source": [
    "TEXT = \"Hi, I need help with\"\n",
    "N_WORDS = 40\n",
    "N_SENTENCES = 2\n",
    "preds = [learn.predict(TEXT, N_WORDS, temperature=0.75) \n",
    "         for _ in range(N_SENTENCES)]"
   ]
  },
  {
   "cell_type": "code",
   "execution_count": 26,
   "metadata": {},
   "outputs": [
    {
     "name": "stdout",
     "output_type": "stream",
     "text": [
      "Hi , i need help with the support & support support to restore idrac Enterprise software to the idrac and the OS version in the process . Nutanix ME4024 has failed in Firmware . The firmware version on screen\n",
      "Hi , i need help with the server Hi , i tried to update Firmware , but the issue followed the original firmware . But it 's not responding , I have tried to install Firmware , but i am\n"
     ]
    }
   ],
   "source": [
    "print(\"\\n\".join(preds))\n"
   ]
  },
  {
   "cell_type": "markdown",
   "metadata": {},
   "source": [
    "## 2nd Classification\n",
    "\n",
    "First we gather our dataset again for text classification, we should now see an imporvemnt in performance \n"
   ]
  },
  {
   "cell_type": "code",
   "execution_count": 27,
   "metadata": {},
   "outputs": [
    {
     "data": {
      "text/html": [],
      "text/plain": [
       "<IPython.core.display.HTML object>"
      ]
     },
     "metadata": {},
     "output_type": "display_data"
    },
    {
     "name": "stderr",
     "output_type": "stream",
     "text": [
      "/home/cian/.local/lib/python3.8/site-packages/numpy/core/_asarray.py:83: VisibleDeprecationWarning: Creating an ndarray from ragged nested sequences (which is a list-or-tuple of lists-or-tuples-or ndarrays with different lengths or shapes) is deprecated. If you meant to do this, you must specify 'dtype=object' when creating the ndarray\n",
      "  return array(a, dtype, copy=False, order=order)\n"
     ]
    }
   ],
   "source": [
    "dls_classification = TextDataLoaders.from_csv(path=path, csv_fname='Dataset_CSV.csv', text_col='text', label_col='label',  text_vocab=dell_lm.vocab)\n"
   ]
  },
  {
   "cell_type": "markdown",
   "metadata": {},
   "source": [
    "We pass the Dell learned vocabulary (dell_lm.vocab) with text_vocab. Unsure if we need to pass valid='test'- name of the validation folder, which is \"test\" (and not the default \"valid\")."
   ]
  },
  {
   "cell_type": "code",
   "execution_count": 28,
   "metadata": {},
   "outputs": [],
   "source": [
    "# train\n",
    "learn = text_classifier_learner(dls, AWD_LSTM, drop_mult=0.5, metrics=accuracy)\n"
   ]
  },
  {
   "cell_type": "markdown",
   "metadata": {},
   "source": [
    "The difference is that before training it, we load the previous encoder (learn.save_encoder('finetuned'))\n",
    "\n",
    "\n",
    "\n",
    "\n"
   ]
  },
  {
   "cell_type": "markdown",
   "metadata": {},
   "source": [
    "## Gradual UnFreezing"
   ]
  },
  {
   "cell_type": "code",
   "execution_count": 29,
   "metadata": {},
   "outputs": [],
   "source": [
    "learn = learn.load_encoder('finetuned')\n"
   ]
  },
  {
   "cell_type": "code",
   "execution_count": 30,
   "metadata": {},
   "outputs": [
    {
     "data": {
      "text/html": [
       "<table border=\"1\" class=\"dataframe\">\n",
       "  <thead>\n",
       "    <tr style=\"text-align: left;\">\n",
       "      <th>epoch</th>\n",
       "      <th>train_loss</th>\n",
       "      <th>valid_loss</th>\n",
       "      <th>accuracy</th>\n",
       "      <th>time</th>\n",
       "    </tr>\n",
       "  </thead>\n",
       "  <tbody>\n",
       "    <tr>\n",
       "      <td>0</td>\n",
       "      <td>0.414520</td>\n",
       "      <td>0.429870</td>\n",
       "      <td>0.833333</td>\n",
       "      <td>00:02</td>\n",
       "    </tr>\n",
       "  </tbody>\n",
       "</table>"
      ],
      "text/plain": [
       "<IPython.core.display.HTML object>"
      ]
     },
     "metadata": {},
     "output_type": "display_data"
    }
   ],
   "source": [
    "learn.fit_one_cycle(1, 2e-2)\n"
   ]
  },
  {
   "cell_type": "markdown",
   "metadata": {},
   "source": [
    "We can see that the first epoch, we see an accuracy of 72% compared to last time, one epoch got us 19%\n",
    "\n",
    "We can pass -2 to freeze_to to freeze all except the last two parameter groups:"
   ]
  },
  {
   "cell_type": "code",
   "execution_count": 31,
   "metadata": {},
   "outputs": [
    {
     "data": {
      "text/html": [
       "<table border=\"1\" class=\"dataframe\">\n",
       "  <thead>\n",
       "    <tr style=\"text-align: left;\">\n",
       "      <th>epoch</th>\n",
       "      <th>train_loss</th>\n",
       "      <th>valid_loss</th>\n",
       "      <th>accuracy</th>\n",
       "      <th>time</th>\n",
       "    </tr>\n",
       "  </thead>\n",
       "  <tbody>\n",
       "    <tr>\n",
       "      <td>0</td>\n",
       "      <td>0.378313</td>\n",
       "      <td>0.320307</td>\n",
       "      <td>0.871212</td>\n",
       "      <td>00:02</td>\n",
       "    </tr>\n",
       "  </tbody>\n",
       "</table>"
      ],
      "text/plain": [
       "<IPython.core.display.HTML object>"
      ]
     },
     "metadata": {},
     "output_type": "display_data"
    }
   ],
   "source": [
    "learn.freeze_to(-2)\n",
    "learn.fit_one_cycle(1, slice(1e-2/(2.6**4),1e-2))"
   ]
  },
  {
   "cell_type": "markdown",
   "metadata": {},
   "source": [
    "Then we can unfreeze a bit more, and continue training and repeat\n",
    "\n"
   ]
  },
  {
   "cell_type": "code",
   "execution_count": 33,
   "metadata": {},
   "outputs": [
    {
     "data": {
      "text/html": [
       "<table border=\"1\" class=\"dataframe\">\n",
       "  <thead>\n",
       "    <tr style=\"text-align: left;\">\n",
       "      <th>epoch</th>\n",
       "      <th>train_loss</th>\n",
       "      <th>valid_loss</th>\n",
       "      <th>accuracy</th>\n",
       "      <th>time</th>\n",
       "    </tr>\n",
       "  </thead>\n",
       "  <tbody>\n",
       "    <tr>\n",
       "      <td>0</td>\n",
       "      <td>0.241989</td>\n",
       "      <td>0.251427</td>\n",
       "      <td>0.901515</td>\n",
       "      <td>00:03</td>\n",
       "    </tr>\n",
       "  </tbody>\n",
       "</table>"
      ],
      "text/plain": [
       "<IPython.core.display.HTML object>"
      ]
     },
     "metadata": {},
     "output_type": "display_data"
    }
   ],
   "source": [
    "learn.freeze_to(-3)\n",
    "learn.fit_one_cycle(1, slice(5e-3/(2.6**4),5e-3))"
   ]
  },
  {
   "cell_type": "code",
   "execution_count": 34,
   "metadata": {},
   "outputs": [
    {
     "data": {
      "text/html": [
       "<table border=\"1\" class=\"dataframe\">\n",
       "  <thead>\n",
       "    <tr style=\"text-align: left;\">\n",
       "      <th>epoch</th>\n",
       "      <th>train_loss</th>\n",
       "      <th>valid_loss</th>\n",
       "      <th>accuracy</th>\n",
       "      <th>time</th>\n",
       "    </tr>\n",
       "  </thead>\n",
       "  <tbody>\n",
       "    <tr>\n",
       "      <td>0</td>\n",
       "      <td>0.185513</td>\n",
       "      <td>0.254597</td>\n",
       "      <td>0.901515</td>\n",
       "      <td>00:04</td>\n",
       "    </tr>\n",
       "    <tr>\n",
       "      <td>1</td>\n",
       "      <td>0.157917</td>\n",
       "      <td>0.256409</td>\n",
       "      <td>0.905303</td>\n",
       "      <td>00:04</td>\n",
       "    </tr>\n",
       "  </tbody>\n",
       "</table>"
      ],
      "text/plain": [
       "<IPython.core.display.HTML object>"
      ]
     },
     "metadata": {},
     "output_type": "display_data"
    }
   ],
   "source": [
    "# now unfreeze entire model\n",
    "learn.unfreeze()\n",
    "learn.fit_one_cycle(2, slice(1e-3/(2.6**4),1e-3))"
   ]
  },
  {
   "cell_type": "code",
   "execution_count": 35,
   "metadata": {},
   "outputs": [
    {
     "data": {
      "text/html": [],
      "text/plain": [
       "<IPython.core.display.HTML object>"
      ]
     },
     "metadata": {},
     "output_type": "display_data"
    },
    {
     "data": {
      "text/plain": [
       "('s', tensor(1), tensor([0.1677, 0.8323]))"
      ]
     },
     "execution_count": 35,
     "metadata": {},
     "output_type": "execute_result"
    }
   ],
   "source": [
    "learn.predict(\"please help this is not a software issue this is a hardware problem\")\n"
   ]
  },
  {
   "cell_type": "code",
   "execution_count": 36,
   "metadata": {},
   "outputs": [
    {
     "data": {
      "text/html": [],
      "text/plain": [
       "<IPython.core.display.HTML object>"
      ]
     },
     "metadata": {},
     "output_type": "display_data"
    },
    {
     "data": {
      "text/html": [
       "<table border=\"1\" class=\"dataframe\">\n",
       "  <thead>\n",
       "    <tr style=\"text-align: right;\">\n",
       "      <th></th>\n",
       "      <th>text</th>\n",
       "      <th>category</th>\n",
       "      <th>category_</th>\n",
       "    </tr>\n",
       "  </thead>\n",
       "  <tbody>\n",
       "    <tr>\n",
       "      <th>0</th>\n",
       "      <td>xxbos xxmaj noticed that vmware has a new xxmaj dell vmware 6.5 image on this page ; https : / / xxunk / group / vmware / xxunk = oem - xxunk xxmaj but we did n't find any information about which systems were compatible . xxmaj is it compatible with our servers ? xxmaj the image is n't visible here , where we usually xxunk for new vmware xxunk ; https : / / xxrep 3 w xxunk / support / home / us / en / 04 / product - support / servicetag / xxunk / drivers . xxmaj xxunk also whether our servers can be updated using normal vmware xxmaj update xxmaj manager updates ? xxmaj we have only used xxmaj dell xxunk to xxunk problems with our xxup vrtx systems , and an external scv3020 storage which they are connected to using xxup sas cards .</td>\n",
       "      <td>s</td>\n",
       "      <td>s</td>\n",
       "    </tr>\n",
       "    <tr>\n",
       "      <th>1</th>\n",
       "      <td>xxbos i receive an alert in xxmaj prism xxmaj central on all 3 xxmaj prism central nodes that the memory has a high usage : xxup cvm or xxup pc xxup vm xxup ram xxmaj usage xxmaj high xxmaj prism xxmaj central xxup vm xxmaj system xxmaj indicator xxmaj critical - - 15 - 11 - 19 xxunk xxmaj prism xxmaj central xxup cvm or xxup pc xxup vm xxup ram xxmaj usage xxmaj high xxmaj prism xxmaj central xxup vm xxmaj system xxmaj indicator xxmaj critical - - 15 - 11 - 19 xxunk xxmaj prism xxmaj central xxup cvm or xxup pc xxup vm xxup ram xxmaj usage xxmaj high xxmaj prism xxmaj central xxup vm xxmaj system xxmaj indicator xxmaj critical - - 15 - 11 - 19 xxunk xxmaj prism xxmaj central xxmaj please escalate to xxmaj nutanix engineer to xxunk</td>\n",
       "      <td>s</td>\n",
       "      <td>s</td>\n",
       "    </tr>\n",
       "    <tr>\n",
       "      <th>2</th>\n",
       "      <td>xxbos xxmaj defective xxup ndc . xxmaj this is the third time i have opened a case for this server in which i signal the faulty xxup ndc . i xxunk he is xxunk this time . xxmaj the xxup ndc module it 's not detected . xxmaj see the attached xxup tsr logs xxunk . xxmaj we have updated all the firmware , but the situation has not changed . xxmaj this is the target component : xxunk : xxmaj broadcom xxunk xxmaj dual xxmaj port xxunk xxup xxunk - t &amp; xxunk xxmaj dual xxmaj port xxunk xxup xxunk - t , xxunk - xxmaj code : xxup xxunk .</td>\n",
       "      <td>h</td>\n",
       "      <td>h</td>\n",
       "    </tr>\n",
       "    <tr>\n",
       "      <th>3</th>\n",
       "      <td>xxbos xxup hba with errors xxmaj the xxmaj host unit xxmaj server - xxup xxunk is not xxunk light . xxmaj the xxmaj xxunk xxmaj port switch - xxrep 3 xxunk xxunk fc3 / 13 is not xxunk light . i tested the fiber cable and the loss xxunk across the xxmaj path was xxunk xxunk . xxmaj the cable tests good with the loss level i xxunk . i swapped out the switch - xxrep 3 xxunk xxunk fc3 / 13 xxup sfp , it still did not xxunk light , so i placed the original xxup sfp back into fc3 / 13 .</td>\n",
       "      <td>s</td>\n",
       "      <td>h</td>\n",
       "    </tr>\n",
       "    <tr>\n",
       "      <th>4</th>\n",
       "      <td>xxbos i am trying to get xxmaj quick xxmaj boot running on my 3 xxmaj dell poweredge xxup r630 servers . xxmaj when i try to run the compatibility check , i get : / xxunk / xxunk / vmware / xxunk / xxunk / xxunk xxunk is not compatible with xxunk drivers . xxmaj compatibility check failed : xxunk one or more on this machine ) xxmaj when i ran the module check ( esxcli system module list ) i saw xxunk listed as a module , and is probably the problem . xxmaj how do i get xxmaj quick xxmaj boot running ?</td>\n",
       "      <td>s</td>\n",
       "      <td>s</td>\n",
       "    </tr>\n",
       "    <tr>\n",
       "      <th>5</th>\n",
       "      <td>xxbos xxmaj failed 32 gb memory xxup dimm . xxmaj faulty memory xxup dimm in xxup xxunk server - multi - bit memory errors . xxup dimm was moved to another xxup dimm slot in the same server several days ago but soon began to log further errors . xxmaj the xxup dimm has also been tested in another identical model of server but soon xxunk to log errors there too . xxmaj known - good xxup dimm has now been installed and this works perfectly . xxmaj all host firmwares are at current revisions . xxmaj please ship replacement xxup dimm ( part</td>\n",
       "      <td>h</td>\n",
       "      <td>h</td>\n",
       "    </tr>\n",
       "    <tr>\n",
       "      <th>6</th>\n",
       "      <td>xxbos xxmaj error at xxmaj memory . xxmaj after a node failure , the xxup lcc reported several errors , which were caused by faulty memory : xxup cpu 2 machine check error detected . xxmaj an xxup oem diagnostic event occurred . xxmaj multi - bit memory errors detected on a memory device at location xxup dimm_a5 . xxmaj the module was switched with a different module in the same server and the xxup post still reported problems with that same module in a different xxup dimm slot . xxmaj it was also tested in a different server .</td>\n",
       "      <td>h</td>\n",
       "      <td>h</td>\n",
       "    </tr>\n",
       "    <tr>\n",
       "      <th>7</th>\n",
       "      <td>xxbos xxmaj attempting to update drivers using the xxmaj dell xxmaj update xxmaj utility and the server crashes . xxmaj on restart there are xxunk for errors xxup xxunk and xxup xxunk . xxmaj xxunk the xxup lc logs and found errors on xxmaj bus 0 xxmaj dev 29 xxmaj xxunk 2 and xxmaj bus 4 xxmaj dev 0 xxmaj xxunk 0 xxmaj reviewing those device , they are the xxup pci xxmaj express xxmaj root and xxup pci xxmaj xxunk xxmaj device . xxmaj manually installing the xxmaj xxunk software update crashes the system with the same errors .</td>\n",
       "      <td>s</td>\n",
       "      <td>s</td>\n",
       "    </tr>\n",
       "    <tr>\n",
       "      <th>8</th>\n",
       "      <td>xxbos xxmaj hi there xxmaj just setting up the new server , have run through lifecycle controller , updated xxmaj firmware , created xxup raid etc , and am now installing xxmaj windows 2019 . xxmaj i 'm at xxmaj installing xxmaj windows xxmaj status screen , and after xxunk xxunk xxunk xxunk , . xxmaj i m still only at 9 % for xxmaj getting files ready for installation … xxunk should take no time at all . ( see screenshot ) . xxmaj any xxunk if there could be an issue ? xxmaj regards</td>\n",
       "      <td>s</td>\n",
       "      <td>s</td>\n",
       "    </tr>\n",
       "  </tbody>\n",
       "</table>"
      ],
      "text/plain": [
       "<IPython.core.display.HTML object>"
      ]
     },
     "metadata": {},
     "output_type": "display_data"
    }
   ],
   "source": [
    "learn.show_results()\n"
   ]
  },
  {
   "cell_type": "markdown",
   "metadata": {},
   "source": [
    "## Confussion Matrix\n",
    "\n",
    "With the fully trained model, based on Dell specific vocaburary we are able to classify 109 hw and 115 sw emails accuratly. With only a few false positives of 23 hw emails that weger actually sw, and 17 sw emails mistakenly classified as hw.\n",
    "\n",
    "Mu assumption is these mis-classifed emails are easily misinterrurpretted examples, however still working on oulling the text examples that where misclassifed by the final model (40 emails in total)\n"
   ]
  },
  {
   "cell_type": "code",
   "execution_count": 37,
   "metadata": {},
   "outputs": [
    {
     "data": {
      "text/html": [],
      "text/plain": [
       "<IPython.core.display.HTML object>"
      ]
     },
     "metadata": {},
     "output_type": "display_data"
    }
   ],
   "source": [
    "interp = ClassificationInterpretation.from_learner(learn)\n"
   ]
  },
  {
   "cell_type": "code",
   "execution_count": 38,
   "metadata": {},
   "outputs": [
    {
     "name": "stdout",
     "output_type": "stream",
     "text": [
      "After Fine Tune Language Model\n"
     ]
    },
    {
     "data": {
      "image/png": "[encoded data removed]",
      "text/plain": [
       "<Figure size 432x288 with 1 Axes>"
      ]
     },
     "metadata": {
      "needs_background": "light"
     },
     "output_type": "display_data"
    }
   ],
   "source": [
    "print(\"After Fine Tune Language Model\")\n",
    "interp.plot_confusion_matrix()\n"
   ]
  },
  {
   "cell_type": "code",
   "execution_count": null,
   "metadata": {},
   "outputs": [],
   "source": []
  }
 ],
 "metadata": {
  "kernelspec": {
   "display_name": "py_36_env",
   "language": "python",
   "name": "py_36_env"
  },
  "language_info": {
   "codemirror_mode": {
    "name": "ipython",
    "version": 3
   },
   "file_extension": ".py",
   "mimetype": "text/x-python",
   "name": "python",
   "nbconvert_exporter": "python",
   "pygments_lexer": "ipython3",
   "version": "3.8.5"
  }
 },
 "nbformat": 4,
 "nbformat_minor": 4
}
